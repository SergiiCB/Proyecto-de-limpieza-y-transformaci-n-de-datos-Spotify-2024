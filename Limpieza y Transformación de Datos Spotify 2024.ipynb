{
 "cells": [
  {
   "cell_type": "markdown",
   "metadata": {},
   "source": [
    "## Proyecto de limpieza y transformación de Datos "
   ]
  },
  {
   "cell_type": "markdown",
   "metadata": {},
   "source": [
    "Para este proyecto, se utilizará el dataset [Spotify Top 50 Playlist Songs](https://www.kaggle.com/datasets/anxods/spotify-top-50-playlist-songs-anxods/data) de **Anxods** que se puede encontrar en la web de **Kaggle**. El dataset contiene información sobre las 50 canciones más escuchadas en Spotify, incluyendo detalles como el artista, título, número de reproducciones y la fecha en que se recopilaron los datos."
   ]
  },
  {
   "cell_type": "markdown",
   "metadata": {},
   "source": [
    "### Importar librerías"
   ]
  },
  {
   "cell_type": "markdown",
   "metadata": {},
   "source": [
    "Cargamos las librerías:"
   ]
  },
  {
   "cell_type": "code",
   "execution_count": 2,
   "metadata": {},
   "outputs": [],
   "source": [
    "import kagglehub\n",
    "import os\n",
    "import pandas as pd\n",
    "import matplotlib as plt\n",
    "import matplotlib.pyplot as plt"
   ]
  },
  {
   "cell_type": "markdown",
   "metadata": {},
   "source": [
    "### Descargar e importar el archivo .CSV"
   ]
  },
  {
   "cell_type": "markdown",
   "metadata": {},
   "source": [
    "Descargamos el conjunto de datos desde Kaggle con la función proporcionada por la librería kagglehub, diseñada específicamente para simplificar la descarga de conjuntos de datos desde Kaggle. Seguidamente, se almacena la ruta del archivo local de los datos descargados en la variable path."
   ]
  },
  {
   "cell_type": "code",
   "execution_count": 3,
   "metadata": {},
   "outputs": [],
   "source": [
    "path = kagglehub.dataset_download(\"anxods/spotify-top-50-playlist-songs-anxods\")"
   ]
  },
  {
   "cell_type": "markdown",
   "metadata": {},
   "source": [
    "Listamos todos los archivos y carpetas almacenados en la variable path. Esto nos permite ver qué archivos se descargaron como parte del dataset."
   ]
  },
  {
   "cell_type": "code",
   "execution_count": 4,
   "metadata": {},
   "outputs": [
    {
     "name": "stdout",
     "output_type": "stream",
     "text": [
      "Archivos: ['.github', '.gitignore', 'data', 'README.md', 'requirements.txt', 'src']\n"
     ]
    }
   ],
   "source": [
    "files = os.listdir(path)\n",
    "print(\"Archivos:\", files)"
   ]
  },
  {
   "cell_type": "markdown",
   "metadata": {},
   "source": [
    "Listamos los archivos almacenados en 'data'."
   ]
  },
  {
   "cell_type": "code",
   "execution_count": 5,
   "metadata": {},
   "outputs": [
    {
     "name": "stdout",
     "output_type": "stream",
     "text": [
      "['spotify-streaming-top-50-argentina.csv', 'spotify-streaming-top-50-france.csv', 'spotify-streaming-top-50-italy.csv', 'spotify-streaming-top-50-japan.csv', 'spotify-streaming-top-50-mexico.csv', 'spotify-streaming-top-50-south-korea.csv', 'spotify-streaming-top-50-spain.csv', 'spotify-streaming-top-50-uk.csv', 'spotify-streaming-top-50-usa.csv', 'spotify-streaming-top-50-world.csv']\n"
     ]
    }
   ],
   "source": [
    "print(os.listdir(path + '/data'))"
   ]
  },
  {
   "cell_type": "markdown",
   "metadata": {},
   "source": [
    "Ahora que ya sabemos el nombre del documento que nos interesa cargar, almacenamos estos datos en un DataFrame de Pandas. Este DataFrame está listo para ser utilizado para manipulación y análisis de datos."
   ]
  },
  {
   "cell_type": "code",
   "execution_count": 6,
   "metadata": {},
   "outputs": [],
   "source": [
    "df = pd.read_csv(f\"{path}/data/spotify-streaming-top-50-spain.csv\")"
   ]
  },
  {
   "cell_type": "markdown",
   "metadata": {},
   "source": [
    "### Exploración inicial"
   ]
  },
  {
   "cell_type": "markdown",
   "metadata": {},
   "source": [
    "Mostramos las dimensiones del DataFrame."
   ]
  },
  {
   "cell_type": "code",
   "execution_count": 7,
   "metadata": {},
   "outputs": [
    {
     "data": {
      "text/plain": [
       "(27800, 11)"
      ]
     },
     "execution_count": 7,
     "metadata": {},
     "output_type": "execute_result"
    }
   ],
   "source": [
    "df.shape"
   ]
  },
  {
   "cell_type": "markdown",
   "metadata": {},
   "source": [
    "Mostramos las primeras 5 filas del DataFrame."
   ]
  },
  {
   "cell_type": "code",
   "execution_count": 8,
   "metadata": {},
   "outputs": [
    {
     "data": {
      "text/html": [
       "<div>\n",
       "<style scoped>\n",
       "    .dataframe tbody tr th:only-of-type {\n",
       "        vertical-align: middle;\n",
       "    }\n",
       "\n",
       "    .dataframe tbody tr th {\n",
       "        vertical-align: top;\n",
       "    }\n",
       "\n",
       "    .dataframe thead th {\n",
       "        text-align: right;\n",
       "    }\n",
       "</style>\n",
       "<table border=\"1\" class=\"dataframe\">\n",
       "  <thead>\n",
       "    <tr style=\"text-align: right;\">\n",
       "      <th></th>\n",
       "      <th>date</th>\n",
       "      <th>position</th>\n",
       "      <th>song</th>\n",
       "      <th>artist</th>\n",
       "      <th>popularity</th>\n",
       "      <th>duration_ms</th>\n",
       "      <th>album_type</th>\n",
       "      <th>total_tracks</th>\n",
       "      <th>release_date</th>\n",
       "      <th>is_explicit</th>\n",
       "      <th>album_cover_url</th>\n",
       "    </tr>\n",
       "  </thead>\n",
       "  <tbody>\n",
       "    <tr>\n",
       "      <th>0</th>\n",
       "      <td>2023-05-18</td>\n",
       "      <td>1</td>\n",
       "      <td>Supernova</td>\n",
       "      <td>Saiko</td>\n",
       "      <td>84</td>\n",
       "      <td>190909</td>\n",
       "      <td>single</td>\n",
       "      <td>1</td>\n",
       "      <td>2023-04-19</td>\n",
       "      <td>False</td>\n",
       "      <td>https://i.scdn.co/image/ab67616d0000b273c3f5b9...</td>\n",
       "    </tr>\n",
       "    <tr>\n",
       "      <th>1</th>\n",
       "      <td>2023-05-18</td>\n",
       "      <td>2</td>\n",
       "      <td>EL TONTO</td>\n",
       "      <td>Lola Indigo</td>\n",
       "      <td>83</td>\n",
       "      <td>187986</td>\n",
       "      <td>album</td>\n",
       "      <td>11</td>\n",
       "      <td>2023-04-13</td>\n",
       "      <td>False</td>\n",
       "      <td>https://i.scdn.co/image/ab67616d0000b273daab36...</td>\n",
       "    </tr>\n",
       "    <tr>\n",
       "      <th>2</th>\n",
       "      <td>2023-05-18</td>\n",
       "      <td>3</td>\n",
       "      <td>Acróstico</td>\n",
       "      <td>Shakira</td>\n",
       "      <td>81</td>\n",
       "      <td>170785</td>\n",
       "      <td>single</td>\n",
       "      <td>1</td>\n",
       "      <td>2023-05-11</td>\n",
       "      <td>False</td>\n",
       "      <td>https://i.scdn.co/image/ab67616d0000b273bd6bbd...</td>\n",
       "    </tr>\n",
       "    <tr>\n",
       "      <th>3</th>\n",
       "      <td>2023-05-18</td>\n",
       "      <td>4</td>\n",
       "      <td>BESO</td>\n",
       "      <td>ROSALÍA &amp; Rauw Alejandro</td>\n",
       "      <td>96</td>\n",
       "      <td>194543</td>\n",
       "      <td>single</td>\n",
       "      <td>3</td>\n",
       "      <td>2023-03-24</td>\n",
       "      <td>False</td>\n",
       "      <td>https://i.scdn.co/image/ab67616d0000b2734d6cf0...</td>\n",
       "    </tr>\n",
       "    <tr>\n",
       "      <th>4</th>\n",
       "      <td>2023-05-18</td>\n",
       "      <td>5</td>\n",
       "      <td>El Merengue</td>\n",
       "      <td>Marshmello &amp; Manuel Turizo</td>\n",
       "      <td>91</td>\n",
       "      <td>189668</td>\n",
       "      <td>single</td>\n",
       "      <td>1</td>\n",
       "      <td>2023-03-03</td>\n",
       "      <td>False</td>\n",
       "      <td>https://i.scdn.co/image/ab67616d0000b273f40467...</td>\n",
       "    </tr>\n",
       "  </tbody>\n",
       "</table>\n",
       "</div>"
      ],
      "text/plain": [
       "         date  position         song                      artist  popularity  \\\n",
       "0  2023-05-18         1    Supernova                       Saiko          84   \n",
       "1  2023-05-18         2     EL TONTO                 Lola Indigo          83   \n",
       "2  2023-05-18         3    Acróstico                     Shakira          81   \n",
       "3  2023-05-18         4         BESO    ROSALÍA & Rauw Alejandro          96   \n",
       "4  2023-05-18         5  El Merengue  Marshmello & Manuel Turizo          91   \n",
       "\n",
       "   duration_ms album_type  total_tracks release_date  is_explicit  \\\n",
       "0       190909     single             1   2023-04-19        False   \n",
       "1       187986      album            11   2023-04-13        False   \n",
       "2       170785     single             1   2023-05-11        False   \n",
       "3       194543     single             3   2023-03-24        False   \n",
       "4       189668     single             1   2023-03-03        False   \n",
       "\n",
       "                                     album_cover_url  \n",
       "0  https://i.scdn.co/image/ab67616d0000b273c3f5b9...  \n",
       "1  https://i.scdn.co/image/ab67616d0000b273daab36...  \n",
       "2  https://i.scdn.co/image/ab67616d0000b273bd6bbd...  \n",
       "3  https://i.scdn.co/image/ab67616d0000b2734d6cf0...  \n",
       "4  https://i.scdn.co/image/ab67616d0000b273f40467...  "
      ]
     },
     "execution_count": 8,
     "metadata": {},
     "output_type": "execute_result"
    }
   ],
   "source": [
    "df.head()"
   ]
  },
  {
   "cell_type": "markdown",
   "metadata": {},
   "source": [
    "Mostramos las estructura y el contenido de los datos."
   ]
  },
  {
   "cell_type": "code",
   "execution_count": 9,
   "metadata": {},
   "outputs": [
    {
     "data": {
      "text/plain": [
       "<bound method DataFrame.info of              date  position                    song  \\\n",
       "0      2023-05-18         1               Supernova   \n",
       "1      2023-05-18         2                EL TONTO   \n",
       "2      2023-05-18         3               Acróstico   \n",
       "3      2023-05-18         4                    BESO   \n",
       "4      2023-05-18         5             El Merengue   \n",
       "...           ...       ...                     ...   \n",
       "27795  2024-11-27        46  Celine (with Kidd Keo)   \n",
       "27796  2024-11-27        47                  Vacile   \n",
       "27797  2024-11-27        48   Rapido (with Cris Mj)   \n",
       "27798  2024-11-27        49               PELIGROSA   \n",
       "27799  2024-11-27        50                    LUNA   \n",
       "\n",
       "                              artist  popularity  duration_ms album_type  \\\n",
       "0                              Saiko          84       190909     single   \n",
       "1                        Lola Indigo          83       187986      album   \n",
       "2                            Shakira          81       170785     single   \n",
       "3           ROSALÍA & Rauw Alejandro          96       194543     single   \n",
       "4         Marshmello & Manuel Turizo          91       189668     single   \n",
       "...                              ...         ...          ...        ...   \n",
       "27795  Ghost Killer Track & Kidd Keo          73       176017     single   \n",
       "27796                      Yan Block          78       140239     single   \n",
       "27797                          Dei V          76       146000      album   \n",
       "27798                     FloyyMenor          83       134930      album   \n",
       "27799                           Feid          88       196800      album   \n",
       "\n",
       "       total_tracks release_date  is_explicit  \\\n",
       "0                 1   2023-04-19        False   \n",
       "1                11   2023-04-13        False   \n",
       "2                 1   2023-05-11        False   \n",
       "3                 3   2023-03-24        False   \n",
       "4                 1   2023-03-03        False   \n",
       "...             ...          ...          ...   \n",
       "27795             1   2023-07-07        False   \n",
       "27796             1   2022-09-30         True   \n",
       "27797            16   2024-06-14         True   \n",
       "27798             7   2024-08-09         True   \n",
       "27799            10   2023-12-01        False   \n",
       "\n",
       "                                         album_cover_url  \n",
       "0      https://i.scdn.co/image/ab67616d0000b273c3f5b9...  \n",
       "1      https://i.scdn.co/image/ab67616d0000b273daab36...  \n",
       "2      https://i.scdn.co/image/ab67616d0000b273bd6bbd...  \n",
       "3      https://i.scdn.co/image/ab67616d0000b2734d6cf0...  \n",
       "4      https://i.scdn.co/image/ab67616d0000b273f40467...  \n",
       "...                                                  ...  \n",
       "27795  https://i.scdn.co/image/ab67616d0000b273892224...  \n",
       "27796  https://i.scdn.co/image/ab67616d0000b273b7a46e...  \n",
       "27797  https://i.scdn.co/image/ab67616d0000b2734258ad...  \n",
       "27798  https://i.scdn.co/image/ab67616d0000b273200e2b...  \n",
       "27799  https://i.scdn.co/image/ab67616d0000b273f1aad8...  \n",
       "\n",
       "[27800 rows x 11 columns]>"
      ]
     },
     "execution_count": 9,
     "metadata": {},
     "output_type": "execute_result"
    }
   ],
   "source": [
    "df.info"
   ]
  },
  {
   "cell_type": "markdown",
   "metadata": {},
   "source": [
    "Mostramos los tipos de datos de cada columna del DataFrame."
   ]
  },
  {
   "cell_type": "code",
   "execution_count": 10,
   "metadata": {},
   "outputs": [
    {
     "data": {
      "text/plain": [
       "date               object\n",
       "position            int64\n",
       "song               object\n",
       "artist             object\n",
       "popularity          int64\n",
       "duration_ms         int64\n",
       "album_type         object\n",
       "total_tracks        int64\n",
       "release_date       object\n",
       "is_explicit          bool\n",
       "album_cover_url    object\n",
       "dtype: object"
      ]
     },
     "execution_count": 10,
     "metadata": {},
     "output_type": "execute_result"
    }
   ],
   "source": [
    "df.dtypes"
   ]
  },
  {
   "cell_type": "markdown",
   "metadata": {},
   "source": [
    "Las variables que contiene el DataFrame són:\n",
    "\n",
    "- date: Cuándo se recopilaron los datos (formato aaaa-mm-dd).\n",
    "- position: La posición en la lista de reproducción de Spotify (del 1 al 50).\n",
    "- song: Nombre de la canción.\n",
    "- artist: Nombre del/los artista(s) de la canción. Si son varios, estarán separados con un &.\n",
    "- popularity: Métrica dada por la API de Spotify para calificar la popularidad real de una canción.\n",
    "- duration_ms: Duración de la canción en milisegundos.\n",
    "- album_type: single/album…\n",
    "- total_tracks: Número de pistas en el disco.\n",
    "- release_date: Cuándo se lanzó la canción.\n",
    "- is_explicit: Verdadero/Falso (True/False).\n",
    "- album_cover_url: URL que contiene la imagen de la portada del álbum de la canción."
   ]
  },
  {
   "cell_type": "markdown",
   "metadata": {},
   "source": [
    "### Tratamiento de duplicados"
   ]
  },
  {
   "cell_type": "markdown",
   "metadata": {},
   "source": [
    "Comenzamos mostrando las dimensiones iniciales del DataFrame antes de tratar los datos."
   ]
  },
  {
   "cell_type": "code",
   "execution_count": 11,
   "metadata": {},
   "outputs": [
    {
     "name": "stdout",
     "output_type": "stream",
     "text": [
      "Dimensiones del DataFrame antes de la eliminación: 305800\n"
     ]
    }
   ],
   "source": [
    "print('Dimensiones del DataFrame antes de la eliminación:', df.size)"
   ]
  },
  {
   "cell_type": "markdown",
   "metadata": {},
   "source": [
    "Eliminamos las filas duplicadas del DataFrame para asegurar que nuestro análisis y modelos se basen en datos precisos y confiables. Los registros duplicados podrían distorsionar los resultados."
   ]
  },
  {
   "cell_type": "code",
   "execution_count": 12,
   "metadata": {},
   "outputs": [
    {
     "data": {
      "text/html": [
       "<div>\n",
       "<style scoped>\n",
       "    .dataframe tbody tr th:only-of-type {\n",
       "        vertical-align: middle;\n",
       "    }\n",
       "\n",
       "    .dataframe tbody tr th {\n",
       "        vertical-align: top;\n",
       "    }\n",
       "\n",
       "    .dataframe thead th {\n",
       "        text-align: right;\n",
       "    }\n",
       "</style>\n",
       "<table border=\"1\" class=\"dataframe\">\n",
       "  <thead>\n",
       "    <tr style=\"text-align: right;\">\n",
       "      <th></th>\n",
       "      <th>date</th>\n",
       "      <th>position</th>\n",
       "      <th>song</th>\n",
       "      <th>artist</th>\n",
       "      <th>popularity</th>\n",
       "      <th>duration_ms</th>\n",
       "      <th>album_type</th>\n",
       "      <th>total_tracks</th>\n",
       "      <th>release_date</th>\n",
       "      <th>is_explicit</th>\n",
       "      <th>album_cover_url</th>\n",
       "    </tr>\n",
       "  </thead>\n",
       "  <tbody>\n",
       "    <tr>\n",
       "      <th>0</th>\n",
       "      <td>2023-05-18</td>\n",
       "      <td>1</td>\n",
       "      <td>Supernova</td>\n",
       "      <td>Saiko</td>\n",
       "      <td>84</td>\n",
       "      <td>190909</td>\n",
       "      <td>single</td>\n",
       "      <td>1</td>\n",
       "      <td>2023-04-19</td>\n",
       "      <td>False</td>\n",
       "      <td>https://i.scdn.co/image/ab67616d0000b273c3f5b9...</td>\n",
       "    </tr>\n",
       "    <tr>\n",
       "      <th>1</th>\n",
       "      <td>2023-05-18</td>\n",
       "      <td>2</td>\n",
       "      <td>EL TONTO</td>\n",
       "      <td>Lola Indigo</td>\n",
       "      <td>83</td>\n",
       "      <td>187986</td>\n",
       "      <td>album</td>\n",
       "      <td>11</td>\n",
       "      <td>2023-04-13</td>\n",
       "      <td>False</td>\n",
       "      <td>https://i.scdn.co/image/ab67616d0000b273daab36...</td>\n",
       "    </tr>\n",
       "    <tr>\n",
       "      <th>2</th>\n",
       "      <td>2023-05-18</td>\n",
       "      <td>3</td>\n",
       "      <td>Acróstico</td>\n",
       "      <td>Shakira</td>\n",
       "      <td>81</td>\n",
       "      <td>170785</td>\n",
       "      <td>single</td>\n",
       "      <td>1</td>\n",
       "      <td>2023-05-11</td>\n",
       "      <td>False</td>\n",
       "      <td>https://i.scdn.co/image/ab67616d0000b273bd6bbd...</td>\n",
       "    </tr>\n",
       "    <tr>\n",
       "      <th>3</th>\n",
       "      <td>2023-05-18</td>\n",
       "      <td>4</td>\n",
       "      <td>BESO</td>\n",
       "      <td>ROSALÍA &amp; Rauw Alejandro</td>\n",
       "      <td>96</td>\n",
       "      <td>194543</td>\n",
       "      <td>single</td>\n",
       "      <td>3</td>\n",
       "      <td>2023-03-24</td>\n",
       "      <td>False</td>\n",
       "      <td>https://i.scdn.co/image/ab67616d0000b2734d6cf0...</td>\n",
       "    </tr>\n",
       "    <tr>\n",
       "      <th>4</th>\n",
       "      <td>2023-05-18</td>\n",
       "      <td>5</td>\n",
       "      <td>El Merengue</td>\n",
       "      <td>Marshmello &amp; Manuel Turizo</td>\n",
       "      <td>91</td>\n",
       "      <td>189668</td>\n",
       "      <td>single</td>\n",
       "      <td>1</td>\n",
       "      <td>2023-03-03</td>\n",
       "      <td>False</td>\n",
       "      <td>https://i.scdn.co/image/ab67616d0000b273f40467...</td>\n",
       "    </tr>\n",
       "    <tr>\n",
       "      <th>...</th>\n",
       "      <td>...</td>\n",
       "      <td>...</td>\n",
       "      <td>...</td>\n",
       "      <td>...</td>\n",
       "      <td>...</td>\n",
       "      <td>...</td>\n",
       "      <td>...</td>\n",
       "      <td>...</td>\n",
       "      <td>...</td>\n",
       "      <td>...</td>\n",
       "      <td>...</td>\n",
       "    </tr>\n",
       "    <tr>\n",
       "      <th>27795</th>\n",
       "      <td>2024-11-27</td>\n",
       "      <td>46</td>\n",
       "      <td>Celine (with Kidd Keo)</td>\n",
       "      <td>Ghost Killer Track &amp; Kidd Keo</td>\n",
       "      <td>73</td>\n",
       "      <td>176017</td>\n",
       "      <td>single</td>\n",
       "      <td>1</td>\n",
       "      <td>2023-07-07</td>\n",
       "      <td>False</td>\n",
       "      <td>https://i.scdn.co/image/ab67616d0000b273892224...</td>\n",
       "    </tr>\n",
       "    <tr>\n",
       "      <th>27796</th>\n",
       "      <td>2024-11-27</td>\n",
       "      <td>47</td>\n",
       "      <td>Vacile</td>\n",
       "      <td>Yan Block</td>\n",
       "      <td>78</td>\n",
       "      <td>140239</td>\n",
       "      <td>single</td>\n",
       "      <td>1</td>\n",
       "      <td>2022-09-30</td>\n",
       "      <td>True</td>\n",
       "      <td>https://i.scdn.co/image/ab67616d0000b273b7a46e...</td>\n",
       "    </tr>\n",
       "    <tr>\n",
       "      <th>27797</th>\n",
       "      <td>2024-11-27</td>\n",
       "      <td>48</td>\n",
       "      <td>Rapido (with Cris Mj)</td>\n",
       "      <td>Dei V</td>\n",
       "      <td>76</td>\n",
       "      <td>146000</td>\n",
       "      <td>album</td>\n",
       "      <td>16</td>\n",
       "      <td>2024-06-14</td>\n",
       "      <td>True</td>\n",
       "      <td>https://i.scdn.co/image/ab67616d0000b2734258ad...</td>\n",
       "    </tr>\n",
       "    <tr>\n",
       "      <th>27798</th>\n",
       "      <td>2024-11-27</td>\n",
       "      <td>49</td>\n",
       "      <td>PELIGROSA</td>\n",
       "      <td>FloyyMenor</td>\n",
       "      <td>83</td>\n",
       "      <td>134930</td>\n",
       "      <td>album</td>\n",
       "      <td>7</td>\n",
       "      <td>2024-08-09</td>\n",
       "      <td>True</td>\n",
       "      <td>https://i.scdn.co/image/ab67616d0000b273200e2b...</td>\n",
       "    </tr>\n",
       "    <tr>\n",
       "      <th>27799</th>\n",
       "      <td>2024-11-27</td>\n",
       "      <td>50</td>\n",
       "      <td>LUNA</td>\n",
       "      <td>Feid</td>\n",
       "      <td>88</td>\n",
       "      <td>196800</td>\n",
       "      <td>album</td>\n",
       "      <td>10</td>\n",
       "      <td>2023-12-01</td>\n",
       "      <td>False</td>\n",
       "      <td>https://i.scdn.co/image/ab67616d0000b273f1aad8...</td>\n",
       "    </tr>\n",
       "  </tbody>\n",
       "</table>\n",
       "<p>27800 rows × 11 columns</p>\n",
       "</div>"
      ],
      "text/plain": [
       "             date  position                    song  \\\n",
       "0      2023-05-18         1               Supernova   \n",
       "1      2023-05-18         2                EL TONTO   \n",
       "2      2023-05-18         3               Acróstico   \n",
       "3      2023-05-18         4                    BESO   \n",
       "4      2023-05-18         5             El Merengue   \n",
       "...           ...       ...                     ...   \n",
       "27795  2024-11-27        46  Celine (with Kidd Keo)   \n",
       "27796  2024-11-27        47                  Vacile   \n",
       "27797  2024-11-27        48   Rapido (with Cris Mj)   \n",
       "27798  2024-11-27        49               PELIGROSA   \n",
       "27799  2024-11-27        50                    LUNA   \n",
       "\n",
       "                              artist  popularity  duration_ms album_type  \\\n",
       "0                              Saiko          84       190909     single   \n",
       "1                        Lola Indigo          83       187986      album   \n",
       "2                            Shakira          81       170785     single   \n",
       "3           ROSALÍA & Rauw Alejandro          96       194543     single   \n",
       "4         Marshmello & Manuel Turizo          91       189668     single   \n",
       "...                              ...         ...          ...        ...   \n",
       "27795  Ghost Killer Track & Kidd Keo          73       176017     single   \n",
       "27796                      Yan Block          78       140239     single   \n",
       "27797                          Dei V          76       146000      album   \n",
       "27798                     FloyyMenor          83       134930      album   \n",
       "27799                           Feid          88       196800      album   \n",
       "\n",
       "       total_tracks release_date  is_explicit  \\\n",
       "0                 1   2023-04-19        False   \n",
       "1                11   2023-04-13        False   \n",
       "2                 1   2023-05-11        False   \n",
       "3                 3   2023-03-24        False   \n",
       "4                 1   2023-03-03        False   \n",
       "...             ...          ...          ...   \n",
       "27795             1   2023-07-07        False   \n",
       "27796             1   2022-09-30         True   \n",
       "27797            16   2024-06-14         True   \n",
       "27798             7   2024-08-09         True   \n",
       "27799            10   2023-12-01        False   \n",
       "\n",
       "                                         album_cover_url  \n",
       "0      https://i.scdn.co/image/ab67616d0000b273c3f5b9...  \n",
       "1      https://i.scdn.co/image/ab67616d0000b273daab36...  \n",
       "2      https://i.scdn.co/image/ab67616d0000b273bd6bbd...  \n",
       "3      https://i.scdn.co/image/ab67616d0000b2734d6cf0...  \n",
       "4      https://i.scdn.co/image/ab67616d0000b273f40467...  \n",
       "...                                                  ...  \n",
       "27795  https://i.scdn.co/image/ab67616d0000b273892224...  \n",
       "27796  https://i.scdn.co/image/ab67616d0000b273b7a46e...  \n",
       "27797  https://i.scdn.co/image/ab67616d0000b2734258ad...  \n",
       "27798  https://i.scdn.co/image/ab67616d0000b273200e2b...  \n",
       "27799  https://i.scdn.co/image/ab67616d0000b273f1aad8...  \n",
       "\n",
       "[27800 rows x 11 columns]"
      ]
     },
     "execution_count": 12,
     "metadata": {},
     "output_type": "execute_result"
    }
   ],
   "source": [
    "df.drop_duplicates()"
   ]
  },
  {
   "cell_type": "markdown",
   "metadata": {},
   "source": [
    "Revisamos de nuevo las dimensiones del DataFrame para saber la cantidad de datos que hemos eliminado."
   ]
  },
  {
   "cell_type": "code",
   "execution_count": 13,
   "metadata": {},
   "outputs": [
    {
     "name": "stdout",
     "output_type": "stream",
     "text": [
      "Dimensiones del DataFrame después de la eliminación 305800\n"
     ]
    }
   ],
   "source": [
    "print('Dimensiones del DataFrame después de la eliminación', df.size)"
   ]
  },
  {
   "cell_type": "markdown",
   "metadata": {},
   "source": [
    "Podemos observar que en el caso de este proyecto, no teníamos datos duplicados."
   ]
  },
  {
   "cell_type": "markdown",
   "metadata": {},
   "source": [
    "### Tratamiento de nulos "
   ]
  },
  {
   "cell_type": "markdown",
   "metadata": {},
   "source": [
    "Mostramos la cantidad de valores nulos en cada columna del DataFrame."
   ]
  },
  {
   "cell_type": "code",
   "execution_count": 14,
   "metadata": {},
   "outputs": [
    {
     "data": {
      "text/plain": [
       "date               0\n",
       "position           0\n",
       "song               0\n",
       "artist             0\n",
       "popularity         0\n",
       "duration_ms        0\n",
       "album_type         0\n",
       "total_tracks       0\n",
       "release_date       0\n",
       "is_explicit        0\n",
       "album_cover_url    0\n",
       "dtype: int64"
      ]
     },
     "execution_count": 14,
     "metadata": {},
     "output_type": "execute_result"
    }
   ],
   "source": [
    "df.isnull().sum()"
   ]
  },
  {
   "cell_type": "markdown",
   "metadata": {},
   "source": [
    "Como se puede observar, no tenemos valores nulos, por lo tanto, no es necesario tratarlos. En caso de haberlos, la estrategia a seguir dependerá de la cantidad y distribución de los nulos, así como del tipo de datos de cada columna.\n",
    "\n",
    "Si la cantidad de nulos es pequeña y dispersa, una opción sencilla es eliminarlos con df.dropna(). Sin embargo, si hay muchos nulos, esta opción podría reducir significativamente el tamaño de la muestra y afectar los resultados.\n",
    "\n",
    "En este último caso, se podría considerar la imputación de valores. Esto implica reemplazar los valores nulos por otros valores estimados. Algunas opciones comunes son:\n",
    "\n",
    "- Media: Adecuada para datos numéricos con distribución simétrica.\n",
    "- Mediana: Útil para datos numéricos con distribución asimétrica o presencia de valores atípicos.\n",
    "- Moda: Apropiada para datos categóricos.\n",
    "\n",
    "Es importante destacar que la elección del método de imputación dependerá del tipo de datos y de la naturaleza de los datos faltantes. Además, es fundamental realizar un análisis exploratorio previo para comprender la magnitud y el patrón de los datos faltantes, lo que ayudará a determinar la mejor estrategia a seguir."
   ]
  },
  {
   "cell_type": "markdown",
   "metadata": {},
   "source": [
    "### Análisis de distribución"
   ]
  },
  {
   "cell_type": "markdown",
   "metadata": {},
   "source": [
    "Mostramos la distribución y las características de la columna 'popularity'. La estadística descriptiva nos da una idea del rango de valores, la tendencia central y la dispersión de los datos."
   ]
  },
  {
   "cell_type": "code",
   "execution_count": 15,
   "metadata": {},
   "outputs": [
    {
     "name": "stdout",
     "output_type": "stream",
     "text": [
      "count    27800.000000\n",
      "mean        81.123957\n",
      "std         10.088455\n",
      "min          0.000000\n",
      "25%         76.000000\n",
      "50%         82.000000\n",
      "75%         87.000000\n",
      "max        100.000000\n",
      "Name: popularity, dtype: float64\n"
     ]
    }
   ],
   "source": [
    "print(df['popularity'].describe())"
   ]
  },
  {
   "cell_type": "markdown",
   "metadata": {},
   "source": [
    "Mostramos un diagrama de caja y un histograma de la columna 'popularity' para entender y visualizar la distribución de los datos."
   ]
  },
  {
   "cell_type": "code",
   "execution_count": 16,
   "metadata": {},
   "outputs": [
    {
     "data": {
      "image/png": "[encoded data removed]",
      "text/plain": [
       "<Figure size 640x480 with 1 Axes>"
      ]
     },
     "metadata": {},
     "output_type": "display_data"
    }
   ],
   "source": [
    "plt.boxplot(df['popularity'])\n",
    "plt.show()"
   ]
  },
  {
   "cell_type": "code",
   "execution_count": 17,
   "metadata": {},
   "outputs": [
    {
     "data": {
      "image/png": "[encoded data removed]",
      "text/plain": [
       "<Figure size 640x480 with 1 Axes>"
      ]
     },
     "metadata": {},
     "output_type": "display_data"
    }
   ],
   "source": [
    "plt.hist(df['popularity'], bins=10)\n",
    "plt.show()"
   ]
  },
  {
   "cell_type": "markdown",
   "metadata": {},
   "source": [
    "Como se puede observar, la mayoría de valores se concentran por encima de 50. Por debajo, encontramos muchos valores atípicos (outliers)."
   ]
  },
  {
   "cell_type": "markdown",
   "metadata": {},
   "source": [
    "Mostramos la distribución y las características de la columna 'duration_ms'."
   ]
  },
  {
   "cell_type": "code",
   "execution_count": 18,
   "metadata": {},
   "outputs": [
    {
     "name": "stdout",
     "output_type": "stream",
     "text": [
      "count     27800.000000\n",
      "mean     197473.678237\n",
      "std       43371.454913\n",
      "min       90613.000000\n",
      "25%      168594.000000\n",
      "50%      191254.000000\n",
      "75%      218119.000000\n",
      "max      555071.000000\n",
      "Name: duration_ms, dtype: float64\n"
     ]
    }
   ],
   "source": [
    "print(df['duration_ms'].describe())"
   ]
  },
  {
   "cell_type": "markdown",
   "metadata": {},
   "source": [
    "Mostramos un diagrama de caja y un histograma de la columna 'duration_ms'."
   ]
  },
  {
   "cell_type": "code",
   "execution_count": 19,
   "metadata": {},
   "outputs": [
    {
     "data": {
      "image/png": "[encoded data removed]",
      "text/plain": [
       "<Figure size 640x480 with 1 Axes>"
      ]
     },
     "metadata": {},
     "output_type": "display_data"
    }
   ],
   "source": [
    "plt.boxplot(df['duration_ms'])\n",
    "plt.show()"
   ]
  },
  {
   "cell_type": "code",
   "execution_count": 20,
   "metadata": {},
   "outputs": [
    {
     "data": {
      "image/png": "[encoded data removed]",
      "text/plain": [
       "<Figure size 640x480 with 1 Axes>"
      ]
     },
     "metadata": {},
     "output_type": "display_data"
    }
   ],
   "source": [
    "plt.hist(df['duration_ms'], bins=10)\n",
    "plt.show()"
   ]
  },
  {
   "cell_type": "markdown",
   "metadata": {},
   "source": [
    "En este caso, podemos observar que la mayoría de valores se concentran por debajo de los 300000. Por encima, encontramos muchos valores atípicos (outliers)."
   ]
  },
  {
   "cell_type": "markdown",
   "metadata": {},
   "source": [
    "### Tratamiento de outliers"
   ]
  },
  {
   "cell_type": "markdown",
   "metadata": {},
   "source": [
    "Como hemos observado, las columnas 'popularity' y 'duration_ms' presentan valores atípicos (outliers). Antes de abordarlos, es crucial considerar algunos aspectos.\n",
    "\n",
    "En el análisis de popularidad de canciones en streaming, los valores bajos pueden representar canciones nuevas o de nicho, cuya eliminación distorsionaría la realidad. Los outliers pueden ser parte natural del fenómeno estudiado y contienen información valiosa.\n",
    "\n",
    "En el contexto de la popularidad en Spotify, es común encontrar muchas canciones con baja popularidad (outliers inferiores), debido a su novedad, nicho o falta de reproducciones.\n",
    "\n",
    "Dado que este proyecto se enfoca en las canciones más populares de 2024, las canciones con baja popularidad no aportan información relevante. Por lo tanto, eliminaré los valores atípicos, ya que no afectarán directamente los resultados deseados. Sin embargo, es fundamental recordar que la eliminación de outliers no siempre es recomendable y depende del enfoque del proyecto, ya que reflejan una realidad del dataset."
   ]
  },
  {
   "cell_type": "markdown",
   "metadata": {},
   "source": [
    "Filtramos el DataFrame y conservamos solo las filas donde el valor en la columna 'popularity' sea mayor que 50. El resto de las filas se eliminan."
   ]
  },
  {
   "cell_type": "code",
   "execution_count": 21,
   "metadata": {},
   "outputs": [],
   "source": [
    "df=df[df['popularity'] > 50]"
   ]
  },
  {
   "cell_type": "markdown",
   "metadata": {},
   "source": [
    "Mostramos nuevamente un diagrama de caja y un histograma de la columna 'popularity'."
   ]
  },
  {
   "cell_type": "code",
   "execution_count": 22,
   "metadata": {},
   "outputs": [
    {
     "data": {
      "image/png": "[encoded data removed]",
      "text/plain": [
       "<Figure size 640x480 with 1 Axes>"
      ]
     },
     "metadata": {},
     "output_type": "display_data"
    }
   ],
   "source": [
    "plt.boxplot(df['popularity'])\n",
    "plt.show()"
   ]
  },
  {
   "cell_type": "code",
   "execution_count": 23,
   "metadata": {},
   "outputs": [
    {
     "data": {
      "image/png": "[encoded data removed]",
      "text/plain": [
       "<Figure size 640x480 with 1 Axes>"
      ]
     },
     "metadata": {},
     "output_type": "display_data"
    }
   ],
   "source": [
    "plt.hist(df['popularity'], bins=10)\n",
    "plt.show()"
   ]
  },
  {
   "cell_type": "markdown",
   "metadata": {},
   "source": [
    "Podemos observar que la gran mayoría de valores atípicos (outliers) han sido eliminados."
   ]
  },
  {
   "cell_type": "markdown",
   "metadata": {},
   "source": [
    "Filtramos el DataFrame y conservamos solo las filas donde el valor en la columna 'duration_ms' sea menor que 300000. El resto de las filas se eliminan."
   ]
  },
  {
   "cell_type": "code",
   "execution_count": 24,
   "metadata": {},
   "outputs": [],
   "source": [
    "df=df[df['duration_ms'] < 300000]"
   ]
  },
  {
   "cell_type": "markdown",
   "metadata": {},
   "source": [
    "Mostramos nuevamente un diagrama de caja y un histograma de la columna 'duration_ms'."
   ]
  },
  {
   "cell_type": "code",
   "execution_count": 25,
   "metadata": {},
   "outputs": [
    {
     "data": {
      "image/png": "[encoded data removed]",
      "text/plain": [
       "<Figure size 640x480 with 1 Axes>"
      ]
     },
     "metadata": {},
     "output_type": "display_data"
    }
   ],
   "source": [
    "plt.boxplot(df['duration_ms'])\n",
    "plt.show()"
   ]
  },
  {
   "cell_type": "code",
   "execution_count": 26,
   "metadata": {},
   "outputs": [
    {
     "data": {
      "image/png": "[encoded data removed]",
      "text/plain": [
       "<Figure size 640x480 with 1 Axes>"
      ]
     },
     "metadata": {},
     "output_type": "display_data"
    }
   ],
   "source": [
    "plt.hist(df['duration_ms'], bins=10)\n",
    "plt.show()"
   ]
  },
  {
   "cell_type": "markdown",
   "metadata": {},
   "source": [
    "Como en el caso de la columna \"popularity\", también podemos observar que la gran mayoría de valores atípicos (outliers) han sido eliminados."
   ]
  },
  {
   "cell_type": "markdown",
   "metadata": {},
   "source": [
    "### Eliminación de columnas"
   ]
  },
  {
   "cell_type": "markdown",
   "metadata": {},
   "source": [
    "Por último, eliminamos columnas que no son relevantes para el análisis. En este caso, las columnas eliminadas 'date', 'total_tracks', 'is_explicit' y 'album_cover_url' no son necesarias para el análisis que vamos a realizar.\n",
    "\n",
    "Eliminar columnas reduce la cantidad de variables en el DataFrame, lo cual puede ser útil para mejorar el rendimiento de ciertos algoritmos, visualizaciones o para simplificar el análisis.\n",
    "\n",
    "Finalmente, verificamos el resultado de la eliminación de columnas obteniendo una vista previa de los datos restantes."
   ]
  },
  {
   "cell_type": "code",
   "execution_count": 27,
   "metadata": {},
   "outputs": [
    {
     "data": {
      "text/html": [
       "<div>\n",
       "<style scoped>\n",
       "    .dataframe tbody tr th:only-of-type {\n",
       "        vertical-align: middle;\n",
       "    }\n",
       "\n",
       "    .dataframe tbody tr th {\n",
       "        vertical-align: top;\n",
       "    }\n",
       "\n",
       "    .dataframe thead th {\n",
       "        text-align: right;\n",
       "    }\n",
       "</style>\n",
       "<table border=\"1\" class=\"dataframe\">\n",
       "  <thead>\n",
       "    <tr style=\"text-align: right;\">\n",
       "      <th></th>\n",
       "      <th>position</th>\n",
       "      <th>song</th>\n",
       "      <th>artist</th>\n",
       "      <th>popularity</th>\n",
       "      <th>duration_ms</th>\n",
       "      <th>album_type</th>\n",
       "      <th>release_date</th>\n",
       "    </tr>\n",
       "  </thead>\n",
       "  <tbody>\n",
       "    <tr>\n",
       "      <th>0</th>\n",
       "      <td>1</td>\n",
       "      <td>Supernova</td>\n",
       "      <td>Saiko</td>\n",
       "      <td>84</td>\n",
       "      <td>190909</td>\n",
       "      <td>single</td>\n",
       "      <td>2023-04-19</td>\n",
       "    </tr>\n",
       "    <tr>\n",
       "      <th>1</th>\n",
       "      <td>2</td>\n",
       "      <td>EL TONTO</td>\n",
       "      <td>Lola Indigo</td>\n",
       "      <td>83</td>\n",
       "      <td>187986</td>\n",
       "      <td>album</td>\n",
       "      <td>2023-04-13</td>\n",
       "    </tr>\n",
       "    <tr>\n",
       "      <th>2</th>\n",
       "      <td>3</td>\n",
       "      <td>Acróstico</td>\n",
       "      <td>Shakira</td>\n",
       "      <td>81</td>\n",
       "      <td>170785</td>\n",
       "      <td>single</td>\n",
       "      <td>2023-05-11</td>\n",
       "    </tr>\n",
       "    <tr>\n",
       "      <th>3</th>\n",
       "      <td>4</td>\n",
       "      <td>BESO</td>\n",
       "      <td>ROSALÍA &amp; Rauw Alejandro</td>\n",
       "      <td>96</td>\n",
       "      <td>194543</td>\n",
       "      <td>single</td>\n",
       "      <td>2023-03-24</td>\n",
       "    </tr>\n",
       "    <tr>\n",
       "      <th>4</th>\n",
       "      <td>5</td>\n",
       "      <td>El Merengue</td>\n",
       "      <td>Marshmello &amp; Manuel Turizo</td>\n",
       "      <td>91</td>\n",
       "      <td>189668</td>\n",
       "      <td>single</td>\n",
       "      <td>2023-03-03</td>\n",
       "    </tr>\n",
       "  </tbody>\n",
       "</table>\n",
       "</div>"
      ],
      "text/plain": [
       "   position         song                      artist  popularity  duration_ms  \\\n",
       "0         1    Supernova                       Saiko          84       190909   \n",
       "1         2     EL TONTO                 Lola Indigo          83       187986   \n",
       "2         3    Acróstico                     Shakira          81       170785   \n",
       "3         4         BESO    ROSALÍA & Rauw Alejandro          96       194543   \n",
       "4         5  El Merengue  Marshmello & Manuel Turizo          91       189668   \n",
       "\n",
       "  album_type release_date  \n",
       "0     single   2023-04-19  \n",
       "1      album   2023-04-13  \n",
       "2     single   2023-05-11  \n",
       "3     single   2023-03-24  \n",
       "4     single   2023-03-03  "
      ]
     },
     "execution_count": 27,
     "metadata": {},
     "output_type": "execute_result"
    }
   ],
   "source": [
    "df = df.drop(columns=['date', 'total_tracks', 'is_explicit', 'album_cover_url'])\n",
    "\n",
    "df.head()"
   ]
  },
  {
   "cell_type": "markdown",
   "metadata": {},
   "source": [
    "### Exportar el CSV"
   ]
  },
  {
   "cell_type": "markdown",
   "metadata": {},
   "source": [
    "Una vez completada la limpieza y transformación de datos, procedemos a exportarlos. Para ello, definimos la variable ruta_y_archivo que contiene la ruta y el nombre del archivo donde se guardará el DataFrame. Posteriormente, guardamos el DataFrame en formato CSV utilizando el método to_csv() de Pandas."
   ]
  },
  {
   "cell_type": "code",
   "execution_count": null,
   "metadata": {},
   "outputs": [],
   "source": [
    "ruta_y_archivo = r'Aquí debes definir la ruta donde guardaras el documento en tu ordenador o MV'\n",
    "\n",
    "df.to_csv(ruta_y_archivo)"
   ]
  }
 ],
 "metadata": {
  "kernelspec": {
   "display_name": "Python 3",
   "language": "python",
   "name": "python3"
  },
  "language_info": {
   "codemirror_mode": {
    "name": "ipython",
    "version": 3
   },
   "file_extension": ".py",
   "mimetype": "text/x-python",
   "name": "python",
   "nbconvert_exporter": "python",
   "pygments_lexer": "ipython3",
   "version": "3.12.2"
  }
 },
 "nbformat": 4,
 "nbformat_minor": 2
}
